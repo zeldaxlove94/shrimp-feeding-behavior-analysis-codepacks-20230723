{
 "cells": [
  {
   "cell_type": "markdown",
   "metadata": {},
   "source": [
    "用於影片自動截圖，其中timeRate為取樣率(截取影片幀的時間間隔)"
   ]
  },
  {
   "cell_type": "code",
   "execution_count": 9,
   "metadata": {},
   "outputs": [],
   "source": [
    "import cv2\n",
    "\n",
    "cap = cv2.VideoCapture(\"G:\\shrimpfeed_20230616\\iphone拍攝\\MP4\\IMG_0428.mp4\") # 需要截取影片的位置\n",
    "c = 1\n",
    "timeRate = 10  # 截取影片幀的時間間隔（這裡是每隔10秒截取一幀）"
   ]
  },
  {
   "cell_type": "code",
   "execution_count": null,
   "metadata": {},
   "outputs": [],
   "source": [
    "while(True):\n",
    "\tret, frame = cap.read()\n",
    "\tFPS = cap.get(5)\n",
    "\tif ret:\n",
    "\t\tframeRate = int(FPS) * timeRate  # 因為cap.get(5)獲取的幀數不是整數，所以需要取整一下（向下取整用int，四捨五入用round，向上取整需要用math模組的ceil()方法）\n",
    "\t\tif(c % frameRate == 0):\n",
    "\t\t\tprint(\"Start Capture ：\" + str(c) + \"Frame\")\n",
    "\t\t\t# # 這裡就可以做一些操作了：顯示截取的幀圖片、保存截取幀到本地\n",
    "\t\t\tcv2.imwrite(\"./sf_10/\" + str(c) + '.jpeg', frame)  # 這裡是將截取的圖像保存在本地\n",
    "\t\tc += 1\n",
    "\t\tcv2.waitKey(0)\n",
    "\telse:\n",
    "\t\tprint(\"Done\")\n",
    "\t\tbreak\n",
    "cap.release()"
   ]
  }
 ],
 "metadata": {
  "kernelspec": {
   "display_name": "base",
   "language": "python",
   "name": "python3"
  },
  "language_info": {
   "codemirror_mode": {
    "name": "ipython",
    "version": 3
   },
   "file_extension": ".py",
   "mimetype": "text/x-python",
   "name": "python",
   "nbconvert_exporter": "python",
   "pygments_lexer": "ipython3",
   "version": "3.9.12"
  },
  "orig_nbformat": 4
 },
 "nbformat": 4,
 "nbformat_minor": 2
}
