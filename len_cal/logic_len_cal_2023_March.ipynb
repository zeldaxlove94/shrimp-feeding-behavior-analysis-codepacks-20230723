{
  "cells": [
    {
      "cell_type": "code",
      "execution_count": 232,
      "metadata": {
        "id": "hspe0rz_oSZr"
      },
      "outputs": [],
      "source": [
        "from scipy.spatial import distance as dist\n",
        "import matplotlib.pyplot as plt\n",
        "import numpy as np\n",
        "import cv2\n",
        "\n",
        "img = cv2.imread('.\\cropped_image_2\\shrimp_crop_21.jpg')"
      ]
    },
    {
      "cell_type": "markdown",
      "metadata": {},
      "source": [
        "This archive shows how the length calculation algorithm works"
      ]
    },
    {
      "cell_type": "code",
      "execution_count": 233,
      "metadata": {
        "colab": {
          "base_uri": "https://localhost:8080/"
        },
        "id": "IeZ2rrOz3bQx",
        "outputId": "4bcb0ea6-c288-4c5b-9836-2b102fdc891d"
      },
      "outputs": [
        {
          "data": {
            "text/plain": [
              "(46, 78, 3)"
            ]
          },
          "execution_count": 233,
          "metadata": {},
          "output_type": "execute_result"
        }
      ],
      "source": [
        "img.shape"
      ]
    },
    {
      "cell_type": "code",
      "execution_count": 234,
      "metadata": {
        "id": "tThQYWosW7gl"
      },
      "outputs": [],
      "source": [
        "gray = cv2.cvtColor(img, cv2.COLOR_BGR2GRAY)\n",
        "\n",
        "ret,thresh = cv2.threshold(gray,127,255,0)\n",
        "contours,hierarchy = cv2.findContours(thresh, 1, 2)\n",
        "\n",
        "# Remove interference\n",
        "\n",
        "cv_contours = []\n",
        " \n",
        "for contour in contours:\n",
        "    area = cv2.contourArea(contour)\n",
        "    if area >= 300:\n",
        "        cv_contours.append(contour)\n",
        "\n",
        "cnt = cv_contours[0]\n"
      ]
    },
    {
      "cell_type": "code",
      "execution_count": 235,
      "metadata": {
        "id": "z22j4MAna0fq"
      },
      "outputs": [],
      "source": [
        "rect = cv2.minAreaRect(cnt)\n",
        "\n",
        "# cv2.boxPoints(rect) for OpenCV 3.x\n",
        "box = cv2.boxPoints(rect) \n",
        "box = np.int0(box)\n",
        "(tl,tr,br,bl) = box \n",
        "\n",
        "img1 = cv2.drawContours(img,[box],0,(0,0,255),2)"
      ]
    },
    {
      "cell_type": "code",
      "execution_count": 236,
      "metadata": {},
      "outputs": [
        {
          "data": {
            "text/plain": [
              "array([[-3, 30],\n",
              "       [68, -8],\n",
              "       [76,  6],\n",
              "       [ 4, 44]], dtype=int64)"
            ]
          },
          "execution_count": 236,
          "metadata": {},
          "output_type": "execute_result"
        }
      ],
      "source": [
        "box "
      ]
    },
    {
      "cell_type": "code",
      "execution_count": 237,
      "metadata": {},
      "outputs": [
        {
          "name": "stdout",
          "output_type": "stream",
          "text": [
            "[(32, 11), (0, 37), (40, 25), (72, -1)]\n"
          ]
        }
      ],
      "source": [
        "def midpoint(ptA,ptB):\n",
        "    return ((ptA[0] + ptB[0]) * 0.5 , (ptA[1] + ptB[1]) * 0.5)\n",
        "\n",
        "\n",
        "m1 = (x1,y1) = midpoint(tl,tr)\n",
        "m2 = (x2,y2) = midpoint(tl,bl)\n",
        "m3 = (x3,y3) = midpoint(bl,br)\n",
        "m4 = (x4,y4) = midpoint(tr,br)    \n",
        "\n",
        "md = [(int(x1),int(y1)),(int(x2),int(y2)),(int(x3),int(y3)),(int(x4),int(y4))]\n",
        "\n",
        "print(md)"
      ]
    },
    {
      "cell_type": "code",
      "execution_count": 238,
      "metadata": {},
      "outputs": [
        {
          "name": "stdout",
          "output_type": "stream",
          "text": [
            "15.88238017426859\n",
            "80.97067370350824\n"
          ]
        }
      ],
      "source": [
        "dA = dist.euclidean(m1,m3)\n",
        "print(dA)\n",
        "dB = dist.euclidean(m2,m4)\n",
        "print(dB)"
      ]
    },
    {
      "cell_type": "code",
      "execution_count": 239,
      "metadata": {},
      "outputs": [],
      "source": [
        "if dA > dB:\n",
        "    pix_L = dA\n",
        "    pix_W = dB\n",
        "else:\n",
        "    pix_L = dB\n",
        "    pix_W = dA"
      ]
    },
    {
      "cell_type": "code",
      "execution_count": 240,
      "metadata": {},
      "outputs": [],
      "source": [
        "real_len = 25\n",
        "pix_num = 108\n",
        "\n",
        "pix_thresh = real_len/pix_num\n",
        "\n",
        "lenth = pix_L*pix_thresh\n",
        "width = pix_W*pix_thresh"
      ]
    },
    {
      "cell_type": "code",
      "execution_count": 241,
      "metadata": {},
      "outputs": [
        {
          "name": "stdout",
          "output_type": "stream",
          "text": [
            "Lenth(mm): 18.74321150544172\n",
            "Width(mm): 3.676476892191803\n"
          ]
        }
      ],
      "source": [
        "print(\"Lenth(mm):\",lenth)\n",
        "print(\"Width(mm):\",width)"
      ]
    },
    {
      "cell_type": "code",
      "execution_count": 242,
      "metadata": {},
      "outputs": [
        {
          "data": {
            "text/plain": [
              "array([[[  0,   0,   0],\n",
              "        [  0,   0,   0],\n",
              "        [  0,   0,   0],\n",
              "        ...,\n",
              "        [  0,   0,   0],\n",
              "        [  2,   2,   2],\n",
              "        [  0,   0,   0]],\n",
              "\n",
              "       [[  0,   0,   0],\n",
              "        [  0,   0,   0],\n",
              "        [  0,   0,   0],\n",
              "        ...,\n",
              "        [  0,   0,   0],\n",
              "        [  0,   0,   0],\n",
              "        [  0,   0,   0]],\n",
              "\n",
              "       [[  0,   0,   0],\n",
              "        [  0,   0,   0],\n",
              "        [  0,   0,   0],\n",
              "        ...,\n",
              "        [  0,   0, 255],\n",
              "        [  0,   0,   0],\n",
              "        [  0,   0,   0]],\n",
              "\n",
              "       ...,\n",
              "\n",
              "       [[  1,   1,   1],\n",
              "        [  0,   0,   0],\n",
              "        [  0,   0, 255],\n",
              "        ...,\n",
              "        [255, 255, 255],\n",
              "        [255, 255, 255],\n",
              "        [255, 255, 255]],\n",
              "\n",
              "       [[  0,   0,   0],\n",
              "        [  1,   1,   1],\n",
              "        [  2,   2,   2],\n",
              "        ...,\n",
              "        [255, 255, 255],\n",
              "        [255, 255, 255],\n",
              "        [255, 255, 255]],\n",
              "\n",
              "       [[  0,   0,   0],\n",
              "        [  0,   0,   0],\n",
              "        [  0,   0,   0],\n",
              "        ...,\n",
              "        [255, 255, 255],\n",
              "        [255, 255, 255],\n",
              "        [255, 255, 255]]], dtype=uint8)"
            ]
          },
          "execution_count": 242,
          "metadata": {},
          "output_type": "execute_result"
        }
      ],
      "source": [
        "cv2.line(img1,(md[0]),(md[2]),(0,255,0),2)\n",
        "cv2.line(img1,(md[1]),(md[3]),(0,255,0),2)"
      ]
    },
    {
      "cell_type": "code",
      "execution_count": 243,
      "metadata": {
        "colab": {
          "base_uri": "https://localhost:8080/",
          "height": 89
        },
        "id": "iQSkLndya7LL",
        "outputId": "b5b6b5e3-1506-4dfb-bb79-bb8554443d8a"
      },
      "outputs": [
        {
          "data": {
            "image/png": "[encoded data removed]",
            "text/plain": [
              "<Figure size 640x480 with 1 Axes>"
            ]
          },
          "metadata": {},
          "output_type": "display_data"
        }
      ],
      "source": [
        "plt.imshow(img1,cmap='gray')\n",
        "plt.show()"
      ]
    },
    {
      "attachments": {},
      "cell_type": "markdown",
      "metadata": {},
      "source": [
        "Part.II https://blog.csdn.net/Mikumiku339/article/details/114798190"
      ]
    }
  ],
  "metadata": {
    "colab": {
      "provenance": []
    },
    "kernelspec": {
      "display_name": "Python 3",
      "name": "python3"
    },
    "language_info": {
      "codemirror_mode": {
        "name": "ipython",
        "version": 3
      },
      "file_extension": ".py",
      "mimetype": "text/x-python",
      "name": "python",
      "nbconvert_exporter": "python",
      "pygments_lexer": "ipython3",
      "version": "3.9.12"
    }
  },
  "nbformat": 4,
  "nbformat_minor": 0
}
